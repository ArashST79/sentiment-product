{
 "cells": [
  {
   "cell_type": "code",
   "execution_count": 1,
   "metadata": {},
   "outputs": [
    {
     "name": "stderr",
     "output_type": "stream",
     "text": [
      "c:\\Users\\Asus\\AppData\\Local\\Programs\\Python\\Python39\\lib\\site-packages\\requests\\__init__.py:102: RequestsDependencyWarning: urllib3 (1.26.18) or chardet (5.2.0)/charset_normalizer (2.0.12) doesn't match a supported version!\n",
      "  warnings.warn(\"urllib3 ({}) or chardet ({})/charset_normalizer ({}) doesn't match a supported \"\n"
     ]
    }
   ],
   "source": [
    "import sys\n",
    "sys.path.append('../')\n",
    "sys.path.append('../scripts')\n",
    "import os\n",
    "import pandas as pd\n",
    "from scripts.data_handler import get_data\n",
    "from transformers import AutoTokenizer,DistilBertForSequenceClassification, DistilBertTokenizer, AdamW\n",
    "from sklearn.model_selection import train_test_split\n",
    "from scripts.models import DistilRobertaForSentimentClassification\n",
    "from scripts.model_training import train_and_evaluate_model\n",
    "from transformers import RobertaTokenizer,RobertaModel\n",
    "from scripts.data_loader import ProductReviewDataset\n",
    "import torch"
   ]
  },
  {
   "cell_type": "markdown",
   "metadata": {},
   "source": [
    "Train And Evaluation Of distilroberta-base "
   ]
  },
  {
   "cell_type": "code",
   "execution_count": 2,
   "metadata": {},
   "outputs": [
    {
     "name": "stderr",
     "output_type": "stream",
     "text": [
      "c:\\Users\\Asus\\AppData\\Local\\Programs\\Python\\Python39\\lib\\site-packages\\transformers\\optimization.py:411: FutureWarning: This implementation of AdamW is deprecated and will be removed in a future version. Use the PyTorch implementation torch.optim.AdamW instead, or set `no_deprecation_warning=True` to disable this warning\n",
      "  warnings.warn(\n",
      "100%|██████████| 500/500 [4:36:50<00:00, 33.22s/it]  \n"
     ]
    },
    {
     "name": "stdout",
     "output_type": "stream",
     "text": [
      "Epoch 1, Training Loss: 0.5740309953689575, Validation Loss: 0.5090367621183396, Mean Difference: 0.2265\n"
     ]
    },
    {
     "name": "stderr",
     "output_type": "stream",
     "text": [
      "100%|██████████| 500/500 [4:09:32<00:00, 29.95s/it]  \n"
     ]
    },
    {
     "name": "stdout",
     "output_type": "stream",
     "text": [
      "Epoch 2, Training Loss: 0.2180006355047226, Validation Loss: 0.4723485976457596, Mean Difference: 0.2095\n"
     ]
    },
    {
     "name": "stderr",
     "output_type": "stream",
     "text": [
      "100%|██████████| 500/500 [3:46:28<00:00, 27.18s/it]  \n"
     ]
    },
    {
     "name": "stdout",
     "output_type": "stream",
     "text": [
      "Epoch 3, Training Loss: 0.45480403304100037, Validation Loss: 0.5282520055770874, Mean Difference: 0.2235\n"
     ]
    }
   ],
   "source": [
    "cache_dir_d_drive = \"D:/models\"\n",
    "tokenizer = RobertaTokenizer.from_pretrained('distilroberta-base', cache_dir=cache_dir_d_drive)\n",
    "base_model = RobertaModel.from_pretrained('distilroberta-base', cache_dir=cache_dir_d_drive, num_labels = 5)\n",
    "model = DistilRobertaForSentimentClassification(base_model, num_labels = 5)\n",
    "review_texts, labels = get_data()\n",
    "review_texts_train, review_texts_test, labels_train, labels_test = train_test_split(review_texts, labels, test_size=0.2, random_state=42)\n",
    "\n",
    "train_loader, val_loader = ProductReviewDataset.getDataLoader(review_texts_train, review_texts_test, labels_train, labels_test,tokenizer)\n",
    "fine_tuned_model = train_and_evaluate_model(train_loader, val_loader, model)\n",
    "# train_and_evaluate_model(preprocessor.X_train_preprocessed, preprocessor.y_train_preprocessed, preprocessor.X_test_preprocessed, preprocessor.y_test_preprocessed)\n",
    "\n",
    "# fine_tuned_model.save_pretrained(\"fine_tuned_distilroberta_base\")\n",
    "torch.save(model.state_dict(), \"../models/fine_tuned_distilroberta_base.pth\")\n"
   ]
  },
  {
   "cell_type": "code",
   "execution_count": null,
   "metadata": {},
   "outputs": [],
   "source": [
    "cache_dir_d_drive = \"D:/models\"\n",
    "base_model = RobertaModel.from_pretrained('distilroberta-base', cache_dir=cache_dir_d_drive, num_labels = 5)\n",
    "loaded_model = DistilRobertaForSentimentClassification(base_model, num_labels = 5)\n",
    "loaded_model.load_state_dict(torch.load(\"fine_tuned_distilroberta_base.pth\"))"
   ]
  },
  {
   "cell_type": "markdown",
   "metadata": {},
   "source": [
    "Train And Evaluation Of distilbert-base-uncased"
   ]
  },
  {
   "cell_type": "code",
   "execution_count": null,
   "metadata": {},
   "outputs": [],
   "source": [
    "cache_dir_d_drive = \"D:/models\"\n",
    "tokenizer = DistilBertTokenizer.from_pretrained('distilbert-base-uncased', cache_dir=cache_dir_d_drive)\n",
    "model = DistilBertForSequenceClassification.from_pretrained('distilbert-base-uncased', cache_dir=cache_dir_d_drive, num_labels = 5)\n",
    "\n",
    "review_texts, labels = get_data()\n",
    "review_texts_train, review_texts_test, labels_train, labels_test = train_test_split(review_texts, labels, test_size=0.2, random_state=42)\n",
    "\n",
    "train_loader, val_loader = ProductReviewDataset.getDataLoader(review_texts_train, review_texts_test, labels_train, labels_test,tokenizer)\n",
    "\n",
    "trained_model = train_and_evaluate_model(train_loader, val_loader, model)\n",
    "trained_model.save_pretrained('../models/fine_tuned_distilbert')"
   ]
  }
 ],
 "metadata": {
  "kernelspec": {
   "display_name": "Python 3",
   "language": "python",
   "name": "python3"
  },
  "language_info": {
   "codemirror_mode": {
    "name": "ipython",
    "version": 3
   },
   "file_extension": ".py",
   "mimetype": "text/x-python",
   "name": "python",
   "nbconvert_exporter": "python",
   "pygments_lexer": "ipython3",
   "version": "3.9.6"
  },
  "orig_nbformat": 4
 },
 "nbformat": 4,
 "nbformat_minor": 2
}
